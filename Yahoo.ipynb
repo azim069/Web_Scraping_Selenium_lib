{
 "cells": [
  {
   "cell_type": "code",
   "execution_count": 4,
   "id": "5000bfd4-6534-4288-ab2b-a2c6eff875e4",
   "metadata": {
    "tags": []
   },
   "outputs": [],
   "source": [
    "#import the libraries\n",
    "from selenium import webdriver\n",
    "from webdriver_manager.chrome import ChromeDriverManager\n",
    "import time \n",
    "import pandas as pd"
   ]
  },
  {
   "cell_type": "code",
   "execution_count": 11,
   "id": "e2c7ad5f-d636-49aa-9c13-771c58b127f6",
   "metadata": {
    "tags": []
   },
   "outputs": [],
   "source": [
    "#import the libraries\n",
    "from selenium import webdriver\n",
    "from webdriver_manager.chrome import ChromeDriverManager\n",
    "import time \n",
    "import pandas as pd"
   ]
  },
  {
   "cell_type": "code",
   "execution_count": 16,
   "id": "c1763435-fb9a-4e86-b018-d8be073ffce1",
   "metadata": {
    "tags": []
   },
   "outputs": [
    {
     "data": {
      "text/plain": [
       "<selenium.webdriver.chrome.webdriver.WebDriver (session=\"71f8f0a5a3cac757a26e5a8d6db2aa1e\")>"
      ]
     },
     "execution_count": 16,
     "metadata": {},
     "output_type": "execute_result"
    }
   ],
   "source": [
    "#define driver\n",
    "\n",
    "driver = webdriver.Chrome()\n",
    "driver"
   ]
  },
  {
   "cell_type": "code",
   "execution_count": 17,
   "id": "c53aa840-a733-4733-ae59-96e4d11ab2f6",
   "metadata": {
    "tags": []
   },
   "outputs": [],
   "source": [
    "url ='https://finance.yahoo.com/crypto/?count=100&offset=0'\n",
    "driver.get(url)"
   ]
  },
  {
   "cell_type": "code",
   "execution_count": null,
   "id": "416337c2-154d-4157-b303-7b1d54349822",
   "metadata": {},
   "outputs": [],
   "source": [
    "#this are the first 100 data of one page \n",
    "Yahoo = []\n",
    "for page in range(0, 9601, 100):\n",
    "    url =f'https://finance.yahoo.com/crypto/?count=100&offset={page}'\n",
    "         \n",
    "    driver.get(url)\n",
    "    #time.sleep(3)\n",
    "    try:\n",
    "        for coin in range(1,101):\n",
    "            #here we extract all data by xpath\n",
    "            Symbol = driver.find_element('xpath',f'(//a[@data-test=\"quoteLink\"])[{coin}]').text\n",
    "            Name = driver.find_element('xpath',f'(//td[@aria-label=\"Name\"])[{coin}]').text\n",
    "            Price_Intraday = driver.find_element('xpath',f'(//td[@aria-label=\"Price (Intraday)\"])[{coin}]').text\n",
    "            Change = driver.find_element('xpath',f'(//td[@aria-label=\"Change\"])[{coin}]').text\n",
    "            Change_percent = driver.find_element('xpath',f'(//td[@aria-label=\"% Change\"])[{coin}]').text\n",
    "            Market_Cap = driver.find_element('xpath',f'(//td[@aria-label=\"Market Cap\"])[{coin}]').text\n",
    "            Volume_in_Currency_UTC = driver.find_element('xpath',f'(//td[@aria-label=\"Volume in Currency (Since 0:00 UTC)\"])[{coin}]').text\n",
    "            Volume_in_Currency_Hour = driver.find_element('xpath',f'(//td[@aria-label=\"Volume in Currency (24Hr)\"])[{coin}]').text\n",
    "            Total_Volume_All_Currencies_Hour = driver.find_element('xpath',f'(//td[@aria-label=\"Total Volume All Currencies (24Hr)\"])[{coin}]').text\n",
    "            Circulating_Supply = driver.find_element('xpath',f'(//td[@aria-label=\"Circulating Supply\"])[{coin}]').text\n",
    "            #getting data \n",
    "            data ={ \n",
    "                'Symbol'                                : Symbol,\n",
    "                'Name'                                  : Name,\n",
    "                'Price (Intraday)'                      : Price_Intraday ,\n",
    "                'Change'                                : Change ,\n",
    "                '% Change'                              : Change_percent ,\n",
    "                'Market Cap'                            : Market_Cap ,\n",
    "                'Volume in Currency (Since 0:00 UTC)'   : Volume_in_Currency_UTC ,\n",
    "                'Volume in Currency (24Hr)'             : Volume_in_Currency_Hour ,\n",
    "                'Total Volume All Currencies (24Hr)'    : Total_Volume_All_Currencies_Hour ,\n",
    "                'Circulating Supply'                    : Circulating_Supply \n",
    "            }            \n",
    "            Yahoo.append(data)\n",
    "            print(data)\n",
    "    except:\n",
    "            pass\n",
    "        #this except is using for per page"
   ]
  },
  {
   "cell_type": "code",
   "execution_count": null,
   "id": "eea1f414-7b83-4190-be0d-94e00afb1417",
   "metadata": {
    "tags": []
   },
   "outputs": [],
   "source": [
    "#create data frame of Yahoo \n",
    "df = pd.DataFrame(Yahoo)"
   ]
  },
  {
   "cell_type": "code",
   "execution_count": null,
   "id": "9a2cd4e3-d472-49ea-ab0b-14625c920c39",
   "metadata": {
    "tags": []
   },
   "outputs": [],
   "source": [
    "#collecting of scrap data\n",
    "df.to_csv('Yahoo Finance - Stock Market.csv',index=False)"
   ]
  }
 ],
 "metadata": {
  "kernelspec": {
   "display_name": "Python 3 (ipykernel)",
   "language": "python",
   "name": "python3"
  },
  "language_info": {
   "codemirror_mode": {
    "name": "ipython",
    "version": 3
   },
   "file_extension": ".py",
   "mimetype": "text/x-python",
   "name": "python",
   "nbconvert_exporter": "python",
   "pygments_lexer": "ipython3",
   "version": "3.11.4"
  }
 },
 "nbformat": 4,
 "nbformat_minor": 5
}
